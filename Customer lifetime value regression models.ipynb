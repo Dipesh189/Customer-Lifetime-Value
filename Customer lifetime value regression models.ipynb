{
 "cells": [
  {
   "cell_type": "code",
   "execution_count": 1,
   "id": "84c7908c",
   "metadata": {},
   "outputs": [],
   "source": [
    "import pandas as pd\n",
    "import joblib\n",
    "import numpy as np\n",
    "import matplotlib.pyplot as plt\n",
    "import seaborn as sns"
   ]
  },
  {
   "cell_type": "code",
   "execution_count": 2,
   "id": "a1f24dde",
   "metadata": {},
   "outputs": [],
   "source": [
    "mainData = pd.read_excel('Online Retail.xlsx')"
   ]
  },
  {
   "cell_type": "code",
   "execution_count": 3,
   "id": "f6259bd5",
   "metadata": {},
   "outputs": [
    {
     "data": {
      "text/html": [
       "<div>\n",
       "<style scoped>\n",
       "    .dataframe tbody tr th:only-of-type {\n",
       "        vertical-align: middle;\n",
       "    }\n",
       "\n",
       "    .dataframe tbody tr th {\n",
       "        vertical-align: top;\n",
       "    }\n",
       "\n",
       "    .dataframe thead th {\n",
       "        text-align: right;\n",
       "    }\n",
       "</style>\n",
       "<table border=\"1\" class=\"dataframe\">\n",
       "  <thead>\n",
       "    <tr style=\"text-align: right;\">\n",
       "      <th></th>\n",
       "      <th>InvoiceNo</th>\n",
       "      <th>StockCode</th>\n",
       "      <th>Description</th>\n",
       "      <th>Quantity</th>\n",
       "      <th>InvoiceDate</th>\n",
       "      <th>UnitPrice</th>\n",
       "      <th>CustomerID</th>\n",
       "      <th>Country</th>\n",
       "    </tr>\n",
       "  </thead>\n",
       "  <tbody>\n",
       "    <tr>\n",
       "      <th>0</th>\n",
       "      <td>536365</td>\n",
       "      <td>85123A</td>\n",
       "      <td>WHITE HANGING HEART T-LIGHT HOLDER</td>\n",
       "      <td>6</td>\n",
       "      <td>2010-12-01 08:26:00</td>\n",
       "      <td>2.55</td>\n",
       "      <td>17850.0</td>\n",
       "      <td>United Kingdom</td>\n",
       "    </tr>\n",
       "    <tr>\n",
       "      <th>1</th>\n",
       "      <td>536365</td>\n",
       "      <td>71053</td>\n",
       "      <td>WHITE METAL LANTERN</td>\n",
       "      <td>6</td>\n",
       "      <td>2010-12-01 08:26:00</td>\n",
       "      <td>3.39</td>\n",
       "      <td>17850.0</td>\n",
       "      <td>United Kingdom</td>\n",
       "    </tr>\n",
       "    <tr>\n",
       "      <th>2</th>\n",
       "      <td>536365</td>\n",
       "      <td>84406B</td>\n",
       "      <td>CREAM CUPID HEARTS COAT HANGER</td>\n",
       "      <td>8</td>\n",
       "      <td>2010-12-01 08:26:00</td>\n",
       "      <td>2.75</td>\n",
       "      <td>17850.0</td>\n",
       "      <td>United Kingdom</td>\n",
       "    </tr>\n",
       "    <tr>\n",
       "      <th>3</th>\n",
       "      <td>536365</td>\n",
       "      <td>84029G</td>\n",
       "      <td>KNITTED UNION FLAG HOT WATER BOTTLE</td>\n",
       "      <td>6</td>\n",
       "      <td>2010-12-01 08:26:00</td>\n",
       "      <td>3.39</td>\n",
       "      <td>17850.0</td>\n",
       "      <td>United Kingdom</td>\n",
       "    </tr>\n",
       "    <tr>\n",
       "      <th>4</th>\n",
       "      <td>536365</td>\n",
       "      <td>84029E</td>\n",
       "      <td>RED WOOLLY HOTTIE WHITE HEART.</td>\n",
       "      <td>6</td>\n",
       "      <td>2010-12-01 08:26:00</td>\n",
       "      <td>3.39</td>\n",
       "      <td>17850.0</td>\n",
       "      <td>United Kingdom</td>\n",
       "    </tr>\n",
       "  </tbody>\n",
       "</table>\n",
       "</div>"
      ],
      "text/plain": [
       "  InvoiceNo StockCode                          Description  Quantity  \\\n",
       "0    536365    85123A   WHITE HANGING HEART T-LIGHT HOLDER         6   \n",
       "1    536365     71053                  WHITE METAL LANTERN         6   \n",
       "2    536365    84406B       CREAM CUPID HEARTS COAT HANGER         8   \n",
       "3    536365    84029G  KNITTED UNION FLAG HOT WATER BOTTLE         6   \n",
       "4    536365    84029E       RED WOOLLY HOTTIE WHITE HEART.         6   \n",
       "\n",
       "          InvoiceDate  UnitPrice  CustomerID         Country  \n",
       "0 2010-12-01 08:26:00       2.55     17850.0  United Kingdom  \n",
       "1 2010-12-01 08:26:00       3.39     17850.0  United Kingdom  \n",
       "2 2010-12-01 08:26:00       2.75     17850.0  United Kingdom  \n",
       "3 2010-12-01 08:26:00       3.39     17850.0  United Kingdom  \n",
       "4 2010-12-01 08:26:00       3.39     17850.0  United Kingdom  "
      ]
     },
     "execution_count": 3,
     "metadata": {},
     "output_type": "execute_result"
    }
   ],
   "source": [
    "mainData.head()"
   ]
  },
  {
   "cell_type": "code",
   "execution_count": 4,
   "id": "da2e833e",
   "metadata": {},
   "outputs": [
    {
     "name": "stdout",
     "output_type": "stream",
     "text": [
      "<class 'pandas.core.frame.DataFrame'>\n",
      "RangeIndex: 541909 entries, 0 to 541908\n",
      "Data columns (total 8 columns):\n",
      " #   Column       Non-Null Count   Dtype         \n",
      "---  ------       --------------   -----         \n",
      " 0   InvoiceNo    541909 non-null  object        \n",
      " 1   StockCode    541909 non-null  object        \n",
      " 2   Description  540455 non-null  object        \n",
      " 3   Quantity     541909 non-null  int64         \n",
      " 4   InvoiceDate  541909 non-null  datetime64[ns]\n",
      " 5   UnitPrice    541909 non-null  float64       \n",
      " 6   CustomerID   406829 non-null  float64       \n",
      " 7   Country      541909 non-null  object        \n",
      "dtypes: datetime64[ns](1), float64(2), int64(1), object(4)\n",
      "memory usage: 33.1+ MB\n"
     ]
    }
   ],
   "source": [
    "mainData.info()"
   ]
  },
  {
   "cell_type": "code",
   "execution_count": 5,
   "id": "ce5bda24",
   "metadata": {},
   "outputs": [],
   "source": [
    "mainData.dropna(inplace=True)"
   ]
  },
  {
   "cell_type": "code",
   "execution_count": 6,
   "id": "784b3b18",
   "metadata": {},
   "outputs": [
    {
     "name": "stdout",
     "output_type": "stream",
     "text": [
      "<class 'pandas.core.frame.DataFrame'>\n",
      "Int64Index: 406829 entries, 0 to 541908\n",
      "Data columns (total 8 columns):\n",
      " #   Column       Non-Null Count   Dtype         \n",
      "---  ------       --------------   -----         \n",
      " 0   InvoiceNo    406829 non-null  object        \n",
      " 1   StockCode    406829 non-null  object        \n",
      " 2   Description  406829 non-null  object        \n",
      " 3   Quantity     406829 non-null  int64         \n",
      " 4   InvoiceDate  406829 non-null  datetime64[ns]\n",
      " 5   UnitPrice    406829 non-null  float64       \n",
      " 6   CustomerID   406829 non-null  float64       \n",
      " 7   Country      406829 non-null  object        \n",
      "dtypes: datetime64[ns](1), float64(2), int64(1), object(4)\n",
      "memory usage: 27.9+ MB\n"
     ]
    }
   ],
   "source": [
    "mainData.info()"
   ]
  },
  {
   "cell_type": "code",
   "execution_count": 7,
   "id": "307b206d",
   "metadata": {},
   "outputs": [],
   "source": [
    "CustomerSegment=pd.read_csv('Customer Segments.csv')"
   ]
  },
  {
   "cell_type": "code",
   "execution_count": 12,
   "id": "7ce7a1c2",
   "metadata": {},
   "outputs": [],
   "source": [
    "Seg_dict=CustomerSegment.set_index('CustomerID').to_dict()['Labels']"
   ]
  },
  {
   "cell_type": "code",
   "execution_count": 13,
   "id": "eacd8548",
   "metadata": {},
   "outputs": [],
   "source": [
    "mainData['TransactionDate'] = mainData['InvoiceDate'].apply(lambda x: f'{x.year}-{x.month}-1')\n",
    "mainData['TransactionDate'] = pd.to_datetime(mainData.TransactionDate)                                                     "
   ]
  },
  {
   "cell_type": "code",
   "execution_count": 14,
   "id": "2193853a",
   "metadata": {},
   "outputs": [],
   "source": [
    "CLVData=mainData[['CustomerID','InvoiceDate','Quantity','UnitPrice']].copy()"
   ]
  },
  {
   "cell_type": "code",
   "execution_count": 15,
   "id": "0dd6953a",
   "metadata": {},
   "outputs": [],
   "source": [
    "CLVData['Price']=CLVData.Quantity*CLVData.UnitPrice"
   ]
  },
  {
   "cell_type": "code",
   "execution_count": 16,
   "id": "ce2aef03",
   "metadata": {},
   "outputs": [],
   "source": [
    "CLVData['Date']=CLVData.InvoiceDate.apply(lambda x:f'{x.year}-{x.month}-{x.day}')\n",
    "CLVData['Date']=pd.to_datetime(CLVData['Date'])"
   ]
  },
  {
   "cell_type": "code",
   "execution_count": 17,
   "id": "ddb2b628",
   "metadata": {},
   "outputs": [],
   "source": [
    "CFirstPurchase=CLVData.sort_values(['CustomerID','Date']).groupby('CustomerID').first()"
   ]
  },
  {
   "cell_type": "code",
   "execution_count": 18,
   "id": "32749ae8",
   "metadata": {},
   "outputs": [
    {
     "data": {
      "text/plain": [
       "Timestamp('2010-12-01 00:00:00')"
      ]
     },
     "execution_count": 18,
     "metadata": {},
     "output_type": "execute_result"
    }
   ],
   "source": [
    "CFirstPurchase['Date'].min()"
   ]
  },
  {
   "cell_type": "code",
   "execution_count": 19,
   "id": "083f8561",
   "metadata": {},
   "outputs": [
    {
     "data": {
      "text/plain": [
       "Timestamp('2011-12-09 00:00:00')"
      ]
     },
     "execution_count": 19,
     "metadata": {},
     "output_type": "execute_result"
    }
   ],
   "source": [
    "CFirstPurchase['Date'].max()"
   ]
  },
  {
   "cell_type": "code",
   "execution_count": 20,
   "id": "2c157d02",
   "metadata": {},
   "outputs": [
    {
     "data": {
      "text/plain": [
       "<AxesSubplot:xlabel='Date'>"
      ]
     },
     "execution_count": 20,
     "metadata": {},
     "output_type": "execute_result"
    },
    {
     "data": {
      "image/png": "[encoded data removed]",
      "text/plain": [
       "<Figure size 432x288 with 1 Axes>"
      ]
     },
     "metadata": {
      "needs_background": "light"
     },
     "output_type": "display_data"
    }
   ],
   "source": [
    "CLVData.set_index('Date')[['Price']].resample('MS').sum().plot()"
   ]
  },
  {
   "cell_type": "code",
   "execution_count": 21,
   "id": "55b262c3",
   "metadata": {},
   "outputs": [],
   "source": [
    "CLVID_Subset=CLVData[CLVData['CustomerID'].isin(CLVData['CustomerID'].unique()[:10])].groupby(['CustomerID','Date']).sum().reset_index()"
   ]
  },
  {
   "cell_type": "code",
   "execution_count": 22,
   "id": "61bfff2b",
   "metadata": {},
   "outputs": [],
   "source": [
    "N_Days=90\n",
    "Max_Date=CLVData['Date'].max()\n",
    "CutOfDate=Max_Date-pd.to_timedelta(N_Days, unit='d')"
   ]
  },
  {
   "cell_type": "code",
   "execution_count": 23,
   "id": "d8a5fd55",
   "metadata": {},
   "outputs": [],
   "source": [
    "CustomerOUT=CLVData[CLVData.Date>CutOfDate]\n",
    "CustomerIN=CLVData[CLVData.Date<=CutOfDate]"
   ]
  },
  {
   "cell_type": "code",
   "execution_count": 24,
   "id": "df9ce812",
   "metadata": {},
   "outputs": [],
   "source": [
    "Target_Customers=CustomerOUT.drop(['Quantity','InvoiceDate','UnitPrice'],axis=1).groupby('CustomerID').sum().rename({'Price':'Spend_90'},axis=1).assign(Spend_90_flag=1)"
   ]
  },
  {
   "cell_type": "code",
   "execution_count": 25,
   "id": "ad245069",
   "metadata": {},
   "outputs": [],
   "source": [
    "Max_Date=CustomerIN.Date.max()\n",
    "Recency_df=CustomerIN[['CustomerID','Date']].groupby('CustomerID').apply(lambda x: (x['Date'].max()-Max_Date)/pd.to_timedelta(1,unit='day')).to_frame().set_axis(['Recency'],axis=1)\n",
    "Frequency_df=CustomerIN[['CustomerID','Date']].groupby('CustomerID').count().set_axis(['Frequency'],axis=1)"
   ]
  },
  {
   "cell_type": "code",
   "execution_count": 26,
   "id": "a3922893",
   "metadata": {},
   "outputs": [],
   "source": [
    "Price_df=CustomerIN.groupby('CustomerID').aggregate({'Price':{'sum','mean'}}).set_axis(['Price_Sum','Price_Mean'],axis=1)"
   ]
  },
  {
   "cell_type": "code",
   "execution_count": 27,
   "id": "9de96607",
   "metadata": {},
   "outputs": [],
   "source": [
    "ML_Data=pd.concat([Recency_df,Frequency_df,Price_df],axis=1\n",
    ").merge(Target_Customers, right_index=True,left_index=True,how='left').fillna(0)"
   ]
  },
  {
   "cell_type": "code",
   "execution_count": 30,
   "id": "1fee4810",
   "metadata": {},
   "outputs": [],
   "source": [
    "ML_Data['Labels']=ML_Data.index.map(Seg_dict)"
   ]
  },
  {
   "cell_type": "code",
   "execution_count": null,
   "id": "6229672d",
   "metadata": {},
   "outputs": [],
   "source": []
  },
  {
   "cell_type": "code",
   "execution_count": 32,
   "id": "dfd314d0",
   "metadata": {},
   "outputs": [],
   "source": [
    "from sklearn.preprocessing import MinMaxScaler"
   ]
  },
  {
   "cell_type": "code",
   "execution_count": 33,
   "id": "529db45c",
   "metadata": {},
   "outputs": [],
   "source": [
    "import sklearn\n",
    "from xgboost import XGBRFClassifier, XGBRFRegressor\n",
    "from sklearn.model_selection import cross_val_score, GridSearchCV\n",
    "from sklearn.metrics import mean_absolute_error, mean_squared_error,explained_variance_score, r2_score,confusion_matrix,accuracy_score\n",
    "from sklearn.linear_model import LogisticRegression, LinearRegression\n",
    "from sklearn.ensemble import AdaBoostClassifier, AdaBoostRegressor, RandomForestClassifier,RandomForestRegressor\n",
    "from sklearn.tree import DecisionTreeClassifier, DecisionTreeRegressor\n",
    "from sklearn.svm import SVR, SVC\n",
    "from sklearn.neighbors import KNeighborsClassifier, KNeighborsRegressor"
   ]
  },
  {
   "cell_type": "code",
   "execution_count": 34,
   "id": "bfad3472",
   "metadata": {},
   "outputs": [],
   "source": [
    "Scaler_F=MinMaxScaler()\n",
    "Scaler_R=MinMaxScaler()\n",
    "Scaler_PS=MinMaxScaler()\n",
    "Scaler_PM=MinMaxScaler()\n",
    "\n",
    "\n",
    "Scaler_F.fit(ML_Data[['Frequency']])\n",
    "Scaler_R.fit(ML_Data[['Recency']])\n",
    "Scaler_PS.fit(ML_Data[['Price_Sum']])\n",
    "Scaler_PM.fit(ML_Data[['Price_Mean']])\n",
    "\n",
    "ML_Data['Frequency']=Scaler_F.transform(ML_Data[['Frequency']])\n",
    "ML_Data['Recency']=Scaler_R.transform(ML_Data[['Recency']])\n",
    "ML_Data['Price_Sum']=Scaler_PS.transform(ML_Data[['Price_Sum']])\n",
    "ML_Data['Price_Mean']=Scaler_PM.transform(ML_Data[['Price_Mean']])"
   ]
  },
  {
   "cell_type": "code",
   "execution_count": 35,
   "id": "2c2adddc",
   "metadata": {},
   "outputs": [],
   "source": [
    "#Data Spliting\n",
    "X=ML_Data.drop(columns=['Spend_90','Spend_90_flag'])\n",
    "yr=ML_Data.Spend_90\n",
    "yc=ML_Data.Spend_90_flag"
   ]
  },
  {
   "cell_type": "code",
   "execution_count": 36,
   "id": "5bca0eef",
   "metadata": {},
   "outputs": [
    {
     "data": {
      "text/plain": [
       "dict_keys(['explained_variance', 'r2', 'max_error', 'neg_median_absolute_error', 'neg_mean_absolute_error', 'neg_mean_absolute_percentage_error', 'neg_mean_squared_error', 'neg_mean_squared_log_error', 'neg_root_mean_squared_error', 'neg_mean_poisson_deviance', 'neg_mean_gamma_deviance', 'accuracy', 'top_k_accuracy', 'roc_auc', 'roc_auc_ovr', 'roc_auc_ovo', 'roc_auc_ovr_weighted', 'roc_auc_ovo_weighted', 'balanced_accuracy', 'average_precision', 'neg_log_loss', 'neg_brier_score', 'adjusted_rand_score', 'rand_score', 'homogeneity_score', 'completeness_score', 'v_measure_score', 'mutual_info_score', 'adjusted_mutual_info_score', 'normalized_mutual_info_score', 'fowlkes_mallows_score', 'precision', 'precision_macro', 'precision_micro', 'precision_samples', 'precision_weighted', 'recall', 'recall_macro', 'recall_micro', 'recall_samples', 'recall_weighted', 'f1', 'f1_macro', 'f1_micro', 'f1_samples', 'f1_weighted', 'jaccard', 'jaccard_macro', 'jaccard_micro', 'jaccard_samples', 'jaccard_weighted'])"
      ]
     },
     "execution_count": 36,
     "metadata": {},
     "output_type": "execute_result"
    }
   ],
   "source": [
    "sklearn.metrics.SCORERS.keys()"
   ]
  },
  {
   "cell_type": "code",
   "execution_count": null,
   "id": "562b490c",
   "metadata": {},
   "outputs": [],
   "source": []
  },
  {
   "cell_type": "code",
   "execution_count": null,
   "id": "7d5a68ad",
   "metadata": {},
   "outputs": [],
   "source": []
  },
  {
   "cell_type": "code",
   "execution_count": null,
   "id": "76e6d72e",
   "metadata": {},
   "outputs": [],
   "source": []
  },
  {
   "cell_type": "code",
   "execution_count": 37,
   "id": "fc10fb5c",
   "metadata": {
    "scrolled": false
   },
   "outputs": [
    {
     "name": "stdout",
     "output_type": "stream",
     "text": [
      "Fitting 5 folds for each of 8 candidates, totalling 40 fits\n",
      "[CV 1/5] END criterion=mse, max_depth=None, max_features=None, max_leaf_nodes=None, min_samples_leaf=2, min_samples_split=2, random_state=0;, score=-3.530 total time=   0.0s\n",
      "[CV 2/5] END criterion=mse, max_depth=None, max_features=None, max_leaf_nodes=None, min_samples_leaf=2, min_samples_split=2, random_state=0;, score=0.449 total time=   0.0s\n",
      "[CV 3/5] END criterion=mse, max_depth=None, max_features=None, max_leaf_nodes=None, min_samples_leaf=2, min_samples_split=2, random_state=0;, score=0.625 total time=   0.0s\n",
      "[CV 4/5] END criterion=mse, max_depth=None, max_features=None, max_leaf_nodes=None, min_samples_leaf=2, min_samples_split=2, random_state=0;, score=0.664 total time=   0.0s\n",
      "[CV 5/5] END criterion=mse, max_depth=None, max_features=None, max_leaf_nodes=None, min_samples_leaf=2, min_samples_split=2, random_state=0;, score=0.334 total time=   0.0s\n",
      "[CV 1/5] END criterion=mse, max_depth=2, max_features=None, max_leaf_nodes=None, min_samples_leaf=2, min_samples_split=2, random_state=0;, score=-3.010 total time=   0.0s\n",
      "[CV 2/5] END criterion=mse, max_depth=2, max_features=None, max_leaf_nodes=None, min_samples_leaf=2, min_samples_split=2, random_state=0;, score=0.467 total time=   0.0s\n",
      "[CV 3/5] END criterion=mse, max_depth=2, max_features=None, max_leaf_nodes=None, min_samples_leaf=2, min_samples_split=2, random_state=0;, score=0.732 total time=   0.0s\n",
      "[CV 4/5] END criterion=mse, max_depth=2, max_features=None, max_leaf_nodes=None, min_samples_leaf=2, min_samples_split=2, random_state=0;, score=0.535 total time=   0.0s\n",
      "[CV 5/5] END criterion=mse, max_depth=2, max_features=None, max_leaf_nodes=None, min_samples_leaf=2, min_samples_split=2, random_state=0;, score=0.331 total time=   0.0s\n",
      "[CV 1/5] END criterion=mse, max_depth=3, max_features=None, max_leaf_nodes=None, min_samples_leaf=2, min_samples_split=2, random_state=0;, score=-2.888 total time=   0.0s\n",
      "[CV 2/5] END criterion=mse, max_depth=3, max_features=None, max_leaf_nodes=None, min_samples_leaf=2, min_samples_split=2, random_state=0;, score=0.470 total time=   0.0s\n",
      "[CV 3/5] END criterion=mse, max_depth=3, max_features=None, max_leaf_nodes=None, min_samples_leaf=2, min_samples_split=2, random_state=0;, score=0.772 total time=   0.0s\n",
      "[CV 4/5] END criterion=mse, max_depth=3, max_features=None, max_leaf_nodes=None, min_samples_leaf=2, min_samples_split=2, random_state=0;, score=0.624 total time=   0.0s\n",
      "[CV 5/5] END criterion=mse, max_depth=3, max_features=None, max_leaf_nodes=None, min_samples_leaf=2, min_samples_split=2, random_state=0;, score=0.338 total time=   0.0s\n",
      "[CV 1/5] END criterion=mse, max_depth=4, max_features=None, max_leaf_nodes=None, min_samples_leaf=2, min_samples_split=2, random_state=0;, score=-2.921 total time=   0.0s\n",
      "[CV 2/5] END criterion=mse, max_depth=4, max_features=None, max_leaf_nodes=None, min_samples_leaf=2, min_samples_split=2, random_state=0;, score=0.466 total time=   0.0s\n",
      "[CV 3/5] END criterion=mse, max_depth=4, max_features=None, max_leaf_nodes=None, min_samples_leaf=2, min_samples_split=2, random_state=0;, score=0.685 total time=   0.0s\n",
      "[CV 4/5] END criterion=mse, max_depth=4, max_features=None, max_leaf_nodes=None, min_samples_leaf=2, min_samples_split=2, random_state=0;, score=0.615 total time=   0.0s\n",
      "[CV 5/5] END criterion=mse, max_depth=4, max_features=None, max_leaf_nodes=None, min_samples_leaf=2, min_samples_split=2, random_state=0;, score=0.337 total time=   0.0s\n",
      "[CV 1/5] END criterion=mae, max_depth=None, max_features=None, max_leaf_nodes=None, min_samples_leaf=2, min_samples_split=2, random_state=0;, score=-3.343 total time=   0.3s\n",
      "[CV 2/5] END criterion=mae, max_depth=None, max_features=None, max_leaf_nodes=None, min_samples_leaf=2, min_samples_split=2, random_state=0;, score=0.448 total time=   0.2s\n",
      "[CV 3/5] END criterion=mae, max_depth=None, max_features=None, max_leaf_nodes=None, min_samples_leaf=2, min_samples_split=2, random_state=0;, score=0.500 total time=   0.3s\n",
      "[CV 4/5] END criterion=mae, max_depth=None, max_features=None, max_leaf_nodes=None, min_samples_leaf=2, min_samples_split=2, random_state=0;, score=0.629 total time=   0.2s\n",
      "[CV 5/5] END criterion=mae, max_depth=None, max_features=None, max_leaf_nodes=None, min_samples_leaf=2, min_samples_split=2, random_state=0;, score=0.310 total time=   0.2s\n",
      "[CV 1/5] END criterion=mae, max_depth=2, max_features=None, max_leaf_nodes=None, min_samples_leaf=2, min_samples_split=2, random_state=0;, score=-2.728 total time=   0.1s\n",
      "[CV 2/5] END criterion=mae, max_depth=2, max_features=None, max_leaf_nodes=None, min_samples_leaf=2, min_samples_split=2, random_state=0;, score=0.219 total time=   0.1s\n",
      "[CV 3/5] END criterion=mae, max_depth=2, max_features=None, max_leaf_nodes=None, min_samples_leaf=2, min_samples_split=2, random_state=0;, score=0.314 total time=   0.1s\n",
      "[CV 4/5] END criterion=mae, max_depth=2, max_features=None, max_leaf_nodes=None, min_samples_leaf=2, min_samples_split=2, random_state=0;, score=0.088 total time=   0.1s\n",
      "[CV 5/5] END criterion=mae, max_depth=2, max_features=None, max_leaf_nodes=None, min_samples_leaf=2, min_samples_split=2, random_state=0;, score=0.208 total time=   0.1s\n",
      "[CV 1/5] END criterion=mae, max_depth=3, max_features=None, max_leaf_nodes=None, min_samples_leaf=2, min_samples_split=2, random_state=0;, score=-2.391 total time=   0.2s\n",
      "[CV 2/5] END criterion=mae, max_depth=3, max_features=None, max_leaf_nodes=None, min_samples_leaf=2, min_samples_split=2, random_state=0;, score=0.451 total time=   0.1s\n",
      "[CV 3/5] END criterion=mae, max_depth=3, max_features=None, max_leaf_nodes=None, min_samples_leaf=2, min_samples_split=2, random_state=0;, score=0.523 total time=   0.2s\n",
      "[CV 4/5] END criterion=mae, max_depth=3, max_features=None, max_leaf_nodes=None, min_samples_leaf=2, min_samples_split=2, random_state=0;, score=0.593 total time=   0.1s\n",
      "[CV 5/5] END criterion=mae, max_depth=3, max_features=None, max_leaf_nodes=None, min_samples_leaf=2, min_samples_split=2, random_state=0;, score=0.314 total time=   0.2s\n",
      "[CV 1/5] END criterion=mae, max_depth=4, max_features=None, max_leaf_nodes=None, min_samples_leaf=2, min_samples_split=2, random_state=0;, score=-2.367 total time=   0.3s\n",
      "[CV 2/5] END criterion=mae, max_depth=4, max_features=None, max_leaf_nodes=None, min_samples_leaf=2, min_samples_split=2, random_state=0;, score=0.475 total time=   0.2s\n",
      "[CV 3/5] END criterion=mae, max_depth=4, max_features=None, max_leaf_nodes=None, min_samples_leaf=2, min_samples_split=2, random_state=0;, score=0.597 total time=   0.3s\n",
      "[CV 4/5] END criterion=mae, max_depth=4, max_features=None, max_leaf_nodes=None, min_samples_leaf=2, min_samples_split=2, random_state=0;, score=0.560 total time=   0.2s\n",
      "[CV 5/5] END criterion=mae, max_depth=4, max_features=None, max_leaf_nodes=None, min_samples_leaf=2, min_samples_split=2, random_state=0;, score=0.306 total time=   0.2s\n",
      "{'criterion': 'mae', 'max_depth': 4, 'max_features': None, 'max_leaf_nodes': None, 'min_samples_leaf': 2, 'min_samples_split': 2, 'random_state': 0}\n",
      "DecisionTreeRegressor(criterion='mae', max_depth=4, min_samples_leaf=2,\n",
      "                      random_state=0)\n",
      "-0.08569521842516073\n",
      "0.744018948385671\n"
     ]
    }
   ],
   "source": [
    "DR=DecisionTreeRegressor()\n",
    "DRP=dict(criterion=['mse','mae'],\n",
    "    max_depth=[None,2,3,4],\n",
    "    min_samples_split=[2],\n",
    "    min_samples_leaf=[2],\n",
    "    max_features=[None],\n",
    "    random_state=[0],\n",
    "    max_leaf_nodes=[None]\n",
    ")\n",
    "\n",
    "DRGSCV=GridSearchCV(DR,DRP,cv=5,refit=True,verbose=3,scoring='r2')\n",
    "DRGSCV.fit(X,yr)\n",
    "print(DRGSCV.best_params_)\n",
    "print(DRGSCV.best_estimator_)\n",
    "print(DRGSCV.best_score_)\n",
    "print(DRGSCV.score(X,yr))"
   ]
  },
  {
   "cell_type": "code",
   "execution_count": 38,
   "id": "52f62d25",
   "metadata": {},
   "outputs": [
    {
     "name": "stdout",
     "output_type": "stream",
     "text": [
      "403.8772505861665\n",
      "1991.8104169923902\n"
     ]
    }
   ],
   "source": [
    "y=DecisionTreeRegressor(criterion='mae', max_depth=4, min_samples_leaf=2,\n",
    "                      random_state=0).fit(X,yr).predict(X)\n",
    "print(mean_absolute_error(yr,y))\n",
    "print(np.sqrt(mean_squared_error(yr,y)))"
   ]
  },
  {
   "cell_type": "code",
   "execution_count": 39,
   "id": "ae5ad351",
   "metadata": {},
   "outputs": [
    {
     "name": "stdout",
     "output_type": "stream",
     "text": [
      "Fitting 5 folds for each of 36 candidates, totalling 180 fits\n",
      "{'C': 10, 'coef0': 5.0, 'degree': 5, 'gamma': 1.0, 'kernel': 'poly'}\n",
      "SVR(C=10, coef0=5.0, degree=5, gamma=1.0, kernel='poly')\n",
      "0.6249262698150693\n",
      "0.6945535884628116\n",
      "406.3536054980106\n",
      "2175.763082612982\n"
     ]
    }
   ],
   "source": [
    "SR=SVR()\n",
    "SRP=dict(kernel=['poly'],\n",
    "    gamma=['scale',1.0,0.01],\n",
    "    coef0=[1.5,2.0,2.5,5.0],\n",
    "    degree=[5],\n",
    "    C=[10,5,1],\n",
    ")\n",
    "SRGSCV=GridSearchCV(SR,SRP,cv=5,refit=True,verbose=3,n_jobs=-1,scoring='r2')\n",
    "SRGSCV.fit(X,yr)\n",
    "print(SRGSCV.best_params_)\n",
    "print(SRGSCV.best_estimator_)\n",
    "print(SRGSCV.best_score_)\n",
    "print(SRGSCV.score(X,yr))\n",
    "y=SRGSCV.predict(X)\n",
    "print(mean_absolute_error(yr,y))\n",
    "print(np.sqrt(mean_squared_error(yr,y)))"
   ]
  },
  {
   "cell_type": "code",
   "execution_count": 40,
   "id": "52f291f7",
   "metadata": {
    "scrolled": true
   },
   "outputs": [
    {
     "name": "stdout",
     "output_type": "stream",
     "text": [
      "Fitting 5 folds for each of 16 candidates, totalling 80 fits\n",
      "[CV 1/5] END algorithm=auto, n_jobs=-1, n_neighbors=2, p=1, weights=uniform;, score=-0.097 total time=   0.1s\n",
      "[CV 2/5] END algorithm=auto, n_jobs=-1, n_neighbors=2, p=1, weights=uniform;, score=0.682 total time=   0.0s\n",
      "[CV 3/5] END algorithm=auto, n_jobs=-1, n_neighbors=2, p=1, weights=uniform;, score=0.471 total time=   0.0s\n",
      "[CV 4/5] END algorithm=auto, n_jobs=-1, n_neighbors=2, p=1, weights=uniform;, score=-0.186 total time=   0.0s\n",
      "[CV 5/5] END algorithm=auto, n_jobs=-1, n_neighbors=2, p=1, weights=uniform;, score=0.303 total time=   0.0s\n",
      "[CV 1/5] END algorithm=auto, n_jobs=-1, n_neighbors=2, p=1, weights=distance;, score=0.101 total time=   0.0s\n",
      "[CV 2/5] END algorithm=auto, n_jobs=-1, n_neighbors=2, p=1, weights=distance;, score=0.676 total time=   0.0s\n",
      "[CV 3/5] END algorithm=auto, n_jobs=-1, n_neighbors=2, p=1, weights=distance;, score=0.471 total time=   0.0s\n",
      "[CV 4/5] END algorithm=auto, n_jobs=-1, n_neighbors=2, p=1, weights=distance;, score=-0.611 total time=   0.0s\n",
      "[CV 5/5] END algorithm=auto, n_jobs=-1, n_neighbors=2, p=1, weights=distance;, score=0.310 total time=   0.0s\n",
      "[CV 1/5] END algorithm=auto, n_jobs=-1, n_neighbors=3, p=1, weights=uniform;, score=0.297 total time=   0.0s\n",
      "[CV 2/5] END algorithm=auto, n_jobs=-1, n_neighbors=3, p=1, weights=uniform;, score=0.534 total time=   0.0s\n",
      "[CV 3/5] END algorithm=auto, n_jobs=-1, n_neighbors=3, p=1, weights=uniform;, score=0.493 total time=   0.0s\n",
      "[CV 4/5] END algorithm=auto, n_jobs=-1, n_neighbors=3, p=1, weights=uniform;, score=0.317 total time=   0.0s\n",
      "[CV 5/5] END algorithm=auto, n_jobs=-1, n_neighbors=3, p=1, weights=uniform;, score=0.282 total time=   0.0s\n",
      "[CV 1/5] END algorithm=auto, n_jobs=-1, n_neighbors=3, p=1, weights=distance;, score=0.339 total time=   0.0s\n",
      "[CV 2/5] END algorithm=auto, n_jobs=-1, n_neighbors=3, p=1, weights=distance;, score=0.568 total time=   0.0s\n",
      "[CV 3/5] END algorithm=auto, n_jobs=-1, n_neighbors=3, p=1, weights=distance;, score=0.488 total time=   0.0s\n",
      "[CV 4/5] END algorithm=auto, n_jobs=-1, n_neighbors=3, p=1, weights=distance;, score=-0.141 total time=   0.0s\n",
      "[CV 5/5] END algorithm=auto, n_jobs=-1, n_neighbors=3, p=1, weights=distance;, score=0.292 total time=   0.0s\n",
      "[CV 1/5] END algorithm=auto, n_jobs=-1, n_neighbors=4, p=1, weights=uniform;, score=-0.351 total time=   0.0s\n",
      "[CV 2/5] END algorithm=auto, n_jobs=-1, n_neighbors=4, p=1, weights=uniform;, score=0.524 total time=   0.0s\n",
      "[CV 3/5] END algorithm=auto, n_jobs=-1, n_neighbors=4, p=1, weights=uniform;, score=0.421 total time=   0.0s\n",
      "[CV 4/5] END algorithm=auto, n_jobs=-1, n_neighbors=4, p=1, weights=uniform;, score=0.481 total time=   0.0s\n",
      "[CV 5/5] END algorithm=auto, n_jobs=-1, n_neighbors=4, p=1, weights=uniform;, score=0.278 total time=   0.0s\n",
      "[CV 1/5] END algorithm=auto, n_jobs=-1, n_neighbors=4, p=1, weights=distance;, score=-0.057 total time=   0.0s\n",
      "[CV 2/5] END algorithm=auto, n_jobs=-1, n_neighbors=4, p=1, weights=distance;, score=0.548 total time=   0.0s\n",
      "[CV 3/5] END algorithm=auto, n_jobs=-1, n_neighbors=4, p=1, weights=distance;, score=0.429 total time=   0.0s\n",
      "[CV 4/5] END algorithm=auto, n_jobs=-1, n_neighbors=4, p=1, weights=distance;, score=0.090 total time=   0.0s\n",
      "[CV 5/5] END algorithm=auto, n_jobs=-1, n_neighbors=4, p=1, weights=distance;, score=0.288 total time=   0.0s\n",
      "[CV 1/5] END algorithm=auto, n_jobs=-1, n_neighbors=5, p=1, weights=uniform;, score=0.044 total time=   0.0s\n",
      "[CV 2/5] END algorithm=auto, n_jobs=-1, n_neighbors=5, p=1, weights=uniform;, score=0.611 total time=   0.0s\n",
      "[CV 3/5] END algorithm=auto, n_jobs=-1, n_neighbors=5, p=1, weights=uniform;, score=0.405 total time=   0.0s\n",
      "[CV 4/5] END algorithm=auto, n_jobs=-1, n_neighbors=5, p=1, weights=uniform;, score=0.569 total time=   0.0s\n",
      "[CV 5/5] END algorithm=auto, n_jobs=-1, n_neighbors=5, p=1, weights=uniform;, score=0.400 total time=   0.0s\n",
      "[CV 1/5] END algorithm=auto, n_jobs=-1, n_neighbors=5, p=1, weights=distance;, score=0.158 total time=   0.0s\n",
      "[CV 2/5] END algorithm=auto, n_jobs=-1, n_neighbors=5, p=1, weights=distance;, score=0.616 total time=   0.0s\n",
      "[CV 3/5] END algorithm=auto, n_jobs=-1, n_neighbors=5, p=1, weights=distance;, score=0.413 total time=   0.0s\n",
      "[CV 4/5] END algorithm=auto, n_jobs=-1, n_neighbors=5, p=1, weights=distance;, score=0.240 total time=   0.0s\n",
      "[CV 5/5] END algorithm=auto, n_jobs=-1, n_neighbors=5, p=1, weights=distance;, score=0.391 total time=   0.0s\n",
      "[CV 1/5] END algorithm=auto, n_jobs=-1, n_neighbors=6, p=1, weights=uniform;, score=0.287 total time=   0.0s\n",
      "[CV 2/5] END algorithm=auto, n_jobs=-1, n_neighbors=6, p=1, weights=uniform;, score=0.576 total time=   0.0s\n",
      "[CV 3/5] END algorithm=auto, n_jobs=-1, n_neighbors=6, p=1, weights=uniform;, score=0.430 total time=   0.0s\n",
      "[CV 4/5] END algorithm=auto, n_jobs=-1, n_neighbors=6, p=1, weights=uniform;, score=0.599 total time=   0.0s\n",
      "[CV 5/5] END algorithm=auto, n_jobs=-1, n_neighbors=6, p=1, weights=uniform;, score=0.376 total time=   0.0s\n",
      "[CV 1/5] END algorithm=auto, n_jobs=-1, n_neighbors=6, p=1, weights=distance;, score=0.292 total time=   0.0s\n",
      "[CV 2/5] END algorithm=auto, n_jobs=-1, n_neighbors=6, p=1, weights=distance;, score=0.584 total time=   0.0s\n",
      "[CV 3/5] END algorithm=auto, n_jobs=-1, n_neighbors=6, p=1, weights=distance;, score=0.435 total time=   0.0s\n",
      "[CV 4/5] END algorithm=auto, n_jobs=-1, n_neighbors=6, p=1, weights=distance;, score=0.328 total time=   0.0s\n",
      "[CV 5/5] END algorithm=auto, n_jobs=-1, n_neighbors=6, p=1, weights=distance;, score=0.373 total time=   0.0s\n",
      "[CV 1/5] END algorithm=auto, n_jobs=-1, n_neighbors=7, p=1, weights=uniform;, score=0.393 total time=   0.0s\n",
      "[CV 2/5] END algorithm=auto, n_jobs=-1, n_neighbors=7, p=1, weights=uniform;, score=0.494 total time=   0.0s\n",
      "[CV 3/5] END algorithm=auto, n_jobs=-1, n_neighbors=7, p=1, weights=uniform;, score=0.470 total time=   0.0s\n",
      "[CV 4/5] END algorithm=auto, n_jobs=-1, n_neighbors=7, p=1, weights=uniform;, score=0.580 total time=   0.0s\n",
      "[CV 5/5] END algorithm=auto, n_jobs=-1, n_neighbors=7, p=1, weights=uniform;, score=0.343 total time=   0.0s\n",
      "[CV 1/5] END algorithm=auto, n_jobs=-1, n_neighbors=7, p=1, weights=distance;, score=0.365 total time=   0.0s\n",
      "[CV 2/5] END algorithm=auto, n_jobs=-1, n_neighbors=7, p=1, weights=distance;, score=0.526 total time=   0.0s\n",
      "[CV 3/5] END algorithm=auto, n_jobs=-1, n_neighbors=7, p=1, weights=distance;, score=0.473 total time=   0.0s\n",
      "[CV 4/5] END algorithm=auto, n_jobs=-1, n_neighbors=7, p=1, weights=distance;, score=0.368 total time=   0.0s\n",
      "[CV 5/5] END algorithm=auto, n_jobs=-1, n_neighbors=7, p=1, weights=distance;, score=0.346 total time=   0.0s\n",
      "[CV 1/5] END algorithm=auto, n_jobs=-1, n_neighbors=8, p=1, weights=uniform;, score=0.505 total time=   0.0s\n",
      "[CV 2/5] END algorithm=auto, n_jobs=-1, n_neighbors=8, p=1, weights=uniform;, score=0.521 total time=   0.0s\n",
      "[CV 3/5] END algorithm=auto, n_jobs=-1, n_neighbors=8, p=1, weights=uniform;, score=0.485 total time=   0.0s\n",
      "[CV 4/5] END algorithm=auto, n_jobs=-1, n_neighbors=8, p=1, weights=uniform;, score=0.563 total time=   0.0s\n",
      "[CV 5/5] END algorithm=auto, n_jobs=-1, n_neighbors=8, p=1, weights=uniform;, score=0.319 total time=   0.0s\n",
      "[CV 1/5] END algorithm=auto, n_jobs=-1, n_neighbors=8, p=1, weights=distance;, score=0.447 total time=   0.0s\n",
      "[CV 2/5] END algorithm=auto, n_jobs=-1, n_neighbors=8, p=1, weights=distance;, score=0.542 total time=   0.0s\n",
      "[CV 3/5] END algorithm=auto, n_jobs=-1, n_neighbors=8, p=1, weights=distance;, score=0.485 total time=   0.0s\n",
      "[CV 4/5] END algorithm=auto, n_jobs=-1, n_neighbors=8, p=1, weights=distance;, score=0.394 total time=   0.0s\n",
      "[CV 5/5] END algorithm=auto, n_jobs=-1, n_neighbors=8, p=1, weights=distance;, score=0.326 total time=   0.0s\n",
      "[CV 1/5] END algorithm=auto, n_jobs=-1, n_neighbors=9, p=1, weights=uniform;, score=0.557 total time=   0.0s\n",
      "[CV 2/5] END algorithm=auto, n_jobs=-1, n_neighbors=9, p=1, weights=uniform;, score=0.485 total time=   0.0s\n",
      "[CV 3/5] END algorithm=auto, n_jobs=-1, n_neighbors=9, p=1, weights=uniform;, score=0.630 total time=   0.0s\n",
      "[CV 4/5] END algorithm=auto, n_jobs=-1, n_neighbors=9, p=1, weights=uniform;, score=0.548 total time=   0.0s\n",
      "[CV 5/5] END algorithm=auto, n_jobs=-1, n_neighbors=9, p=1, weights=uniform;, score=0.306 total time=   0.0s\n",
      "[CV 1/5] END algorithm=auto, n_jobs=-1, n_neighbors=9, p=1, weights=distance;, score=0.494 total time=   0.0s\n",
      "[CV 2/5] END algorithm=auto, n_jobs=-1, n_neighbors=9, p=1, weights=distance;, score=0.515 total time=   0.0s\n",
      "[CV 3/5] END algorithm=auto, n_jobs=-1, n_neighbors=9, p=1, weights=distance;, score=0.603 total time=   0.0s\n",
      "[CV 4/5] END algorithm=auto, n_jobs=-1, n_neighbors=9, p=1, weights=distance;, score=0.414 total time=   0.0s\n"
     ]
    },
    {
     "name": "stdout",
     "output_type": "stream",
     "text": [
      "[CV 5/5] END algorithm=auto, n_jobs=-1, n_neighbors=9, p=1, weights=distance;, score=0.315 total time=   0.0s\n",
      "{'algorithm': 'auto', 'n_jobs': -1, 'n_neighbors': 9, 'p': 1, 'weights': 'uniform'}\n",
      "KNeighborsRegressor(n_jobs=-1, n_neighbors=9, p=1)\n",
      "0.5050588946184418\n",
      "0.6175956415072748\n",
      "410.9229753158785\n",
      "2434.476051741402\n"
     ]
    }
   ],
   "source": [
    "KR=KNeighborsRegressor()\n",
    "KRP=dict(n_neighbors=range(2,10),\n",
    "weights=['uniform', 'distance'],\n",
    "algorithm=['auto'],\n",
    "p=[1],\n",
    "n_jobs=[-1])\n",
    "KRGSCV=GridSearchCV(KR,KRP,cv=5,refit=True,verbose=3,scoring='r2')\n",
    "KRGSCV.fit(X,yr)\n",
    "print(KRGSCV.best_params_)\n",
    "print(KRGSCV.best_estimator_)\n",
    "print(KRGSCV.best_score_)\n",
    "print(KRGSCV.score(X,yr))\n",
    "y=KRGSCV.predict(X)\n",
    "print(mean_absolute_error(yr,y))\n",
    "print(np.sqrt(mean_squared_error(yr,y)))"
   ]
  },
  {
   "cell_type": "code",
   "execution_count": 41,
   "id": "7e046f43",
   "metadata": {
    "scrolled": true
   },
   "outputs": [
    {
     "name": "stdout",
     "output_type": "stream",
     "text": [
      "Fitting 5 folds for each of 4 candidates, totalling 20 fits\n",
      "[CV 1/5] END criterion=mse, max_depth=None, max_features=auto, n_estimators=150, n_jobs=-1, random_state=0;, score=-0.931 total time=   0.6s\n",
      "[CV 2/5] END criterion=mse, max_depth=None, max_features=auto, n_estimators=150, n_jobs=-1, random_state=0;, score=0.565 total time=   0.5s\n",
      "[CV 3/5] END criterion=mse, max_depth=None, max_features=auto, n_estimators=150, n_jobs=-1, random_state=0;, score=0.689 total time=   0.6s\n",
      "[CV 4/5] END criterion=mse, max_depth=None, max_features=auto, n_estimators=150, n_jobs=-1, random_state=0;, score=0.334 total time=   0.5s\n",
      "[CV 5/5] END criterion=mse, max_depth=None, max_features=auto, n_estimators=150, n_jobs=-1, random_state=0;, score=0.429 total time=   0.6s\n",
      "[CV 1/5] END criterion=mse, max_depth=6, max_features=auto, n_estimators=150, n_jobs=-1, random_state=0;, score=-0.698 total time=   0.4s\n",
      "[CV 2/5] END criterion=mse, max_depth=6, max_features=auto, n_estimators=150, n_jobs=-1, random_state=0;, score=0.569 total time=   0.5s\n",
      "[CV 3/5] END criterion=mse, max_depth=6, max_features=auto, n_estimators=150, n_jobs=-1, random_state=0;, score=0.680 total time=   0.4s\n",
      "[CV 4/5] END criterion=mse, max_depth=6, max_features=auto, n_estimators=150, n_jobs=-1, random_state=0;, score=0.323 total time=   0.5s\n",
      "[CV 5/5] END criterion=mse, max_depth=6, max_features=auto, n_estimators=150, n_jobs=-1, random_state=0;, score=0.435 total time=   0.4s\n",
      "[CV 1/5] END criterion=mae, max_depth=None, max_features=auto, n_estimators=150, n_jobs=-1, random_state=0;, score=-0.104 total time=   4.7s\n",
      "[CV 2/5] END criterion=mae, max_depth=None, max_features=auto, n_estimators=150, n_jobs=-1, random_state=0;, score=0.629 total time=   4.5s\n",
      "[CV 3/5] END criterion=mae, max_depth=None, max_features=auto, n_estimators=150, n_jobs=-1, random_state=0;, score=0.507 total time=   4.8s\n",
      "[CV 4/5] END criterion=mae, max_depth=None, max_features=auto, n_estimators=150, n_jobs=-1, random_state=0;, score=0.532 total time=   4.8s\n",
      "[CV 5/5] END criterion=mae, max_depth=None, max_features=auto, n_estimators=150, n_jobs=-1, random_state=0;, score=0.421 total time=   4.3s\n",
      "[CV 1/5] END criterion=mae, max_depth=6, max_features=auto, n_estimators=150, n_jobs=-1, random_state=0;, score=0.046 total time=   4.1s\n",
      "[CV 2/5] END criterion=mae, max_depth=6, max_features=auto, n_estimators=150, n_jobs=-1, random_state=0;, score=0.634 total time=   3.4s\n",
      "[CV 3/5] END criterion=mae, max_depth=6, max_features=auto, n_estimators=150, n_jobs=-1, random_state=0;, score=0.534 total time=   3.7s\n",
      "[CV 4/5] END criterion=mae, max_depth=6, max_features=auto, n_estimators=150, n_jobs=-1, random_state=0;, score=0.704 total time=   3.7s\n",
      "[CV 5/5] END criterion=mae, max_depth=6, max_features=auto, n_estimators=150, n_jobs=-1, random_state=0;, score=0.399 total time=   3.5s\n",
      "{'criterion': 'mae', 'max_depth': 6, 'max_features': 'auto', 'n_estimators': 150, 'n_jobs': -1, 'random_state': 0}\n",
      "RandomForestRegressor(criterion='mae', max_depth=6, n_estimators=150, n_jobs=-1,\n",
      "                      random_state=0)\n",
      "0.463243442029149\n",
      "0.8507517684915281\n",
      "347.64573758304016\n",
      "1520.8930901817362\n"
     ]
    }
   ],
   "source": [
    "RR=RandomForestRegressor()\n",
    "RRP=dict(n_estimators=[150],\n",
    "    criterion=['mse','mae'],\n",
    "    max_depth=[None,6],\n",
    "    max_features=['auto'],\n",
    "    n_jobs=[-1],\n",
    "    random_state=[0]\n",
    "        )\n",
    "RRGSCV=GridSearchCV(RR,RRP,cv=5,refit=True,verbose=3,scoring='r2')\n",
    "RRGSCV.fit(X,yr)\n",
    "print(RRGSCV.best_params_)\n",
    "print(RRGSCV.best_estimator_)\n",
    "print(RRGSCV.best_score_)\n",
    "print(RRGSCV.score(X,yr))\n",
    "y=RRGSCV.predict(X)\n",
    "print(mean_absolute_error(yr,y))\n",
    "print(np.sqrt(mean_squared_error(yr,y)))"
   ]
  },
  {
   "cell_type": "code",
   "execution_count": 42,
   "id": "db159f51",
   "metadata": {},
   "outputs": [
    {
     "name": "stdout",
     "output_type": "stream",
     "text": [
      "Fitting 5 folds for each of 2 candidates, totalling 10 fits\n",
      "[CV 1/5] END criterion=mse, max_depth=None, max_features=auto, n_estimators=150, n_jobs=-1, random_state=0;, score=-0.931 total time=   0.6s\n",
      "[CV 2/5] END criterion=mse, max_depth=None, max_features=auto, n_estimators=150, n_jobs=-1, random_state=0;, score=0.565 total time=   0.5s\n",
      "[CV 3/5] END criterion=mse, max_depth=None, max_features=auto, n_estimators=150, n_jobs=-1, random_state=0;, score=0.689 total time=   0.6s\n",
      "[CV 4/5] END criterion=mse, max_depth=None, max_features=auto, n_estimators=150, n_jobs=-1, random_state=0;, score=0.334 total time=   0.5s\n",
      "[CV 5/5] END criterion=mse, max_depth=None, max_features=auto, n_estimators=150, n_jobs=-1, random_state=0;, score=0.429 total time=   0.6s\n",
      "[CV 1/5] END criterion=mae, max_depth=None, max_features=auto, n_estimators=150, n_jobs=-1, random_state=0;, score=-0.104 total time=   4.9s\n",
      "[CV 2/5] END criterion=mae, max_depth=None, max_features=auto, n_estimators=150, n_jobs=-1, random_state=0;, score=0.629 total time=   4.3s\n",
      "[CV 3/5] END criterion=mae, max_depth=None, max_features=auto, n_estimators=150, n_jobs=-1, random_state=0;, score=0.507 total time=   4.5s\n",
      "[CV 4/5] END criterion=mae, max_depth=None, max_features=auto, n_estimators=150, n_jobs=-1, random_state=0;, score=0.532 total time=   4.7s\n",
      "[CV 5/5] END criterion=mae, max_depth=None, max_features=auto, n_estimators=150, n_jobs=-1, random_state=0;, score=0.421 total time=   4.3s\n",
      "{'criterion': 'mae', 'max_depth': None, 'max_features': 'auto', 'n_estimators': 150, 'n_jobs': -1, 'random_state': 0}\n",
      "RandomForestRegressor(criterion='mae', n_estimators=150, n_jobs=-1,\n",
      "                      random_state=0)\n",
      "0.3969962667580499\n",
      "0.9322986926676511\n",
      "189.33299711215315\n",
      "1024.3364277024586\n"
     ]
    }
   ],
   "source": [
    "RR=RandomForestRegressor()\n",
    "RRP=dict(n_estimators=[150],\n",
    "    criterion=['mse','mae'],\n",
    "    max_depth=[None],\n",
    "    max_features=['auto'],\n",
    "    n_jobs=[-1],\n",
    "    random_state=[0]\n",
    "        )\n",
    "RRGSCV2=GridSearchCV(RR,RRP,cv=5,refit=True,verbose=3,scoring='r2')\n",
    "RRGSCV2.fit(X,yr)\n",
    "print(RRGSCV2.best_params_)\n",
    "print(RRGSCV2.best_estimator_)\n",
    "print(RRGSCV2.best_score_)\n",
    "print(RRGSCV2.score(X,yr))\n",
    "y=RRGSCV2.predict(X)\n",
    "print(mean_absolute_error(yr,y))\n",
    "print(np.sqrt(mean_squared_error(yr,y)))"
   ]
  },
  {
   "cell_type": "code",
   "execution_count": 43,
   "id": "efe26e8f",
   "metadata": {},
   "outputs": [
    {
     "name": "stdout",
     "output_type": "stream",
     "text": [
      "Fitting 5 folds for each of 9 candidates, totalling 45 fits\n",
      "{'learning_rate': 0.001, 'loss': 'exponential', 'random_state': 0}\n",
      "AdaBoostRegressor(base_estimator=DecisionTreeRegressor(criterion='mae',\n",
      "                                                       max_depth=4,\n",
      "                                                       min_samples_leaf=2),\n",
      "                  learning_rate=0.001, loss='exponential', random_state=0)\n",
      "0.20377667560093796\n",
      "0.869495768890707\n",
      "364.48111342321215\n",
      "1422.185957173189\n"
     ]
    }
   ],
   "source": [
    "AR=AdaBoostRegressor(base_estimator=DecisionTreeRegressor(criterion='mae', max_depth=4, min_samples_leaf=2))\n",
    "ARP=dict(learning_rate=[0.001,0.0001,0.00001],\n",
    "    loss=['linear', 'square', 'exponential'],\n",
    "    random_state=[0])\n",
    "ARGSCV=GridSearchCV(AR,ARP,cv=5,refit=True,verbose=3,scoring='r2',n_jobs=-1)\n",
    "ARGSCV.fit(X,yr)\n",
    "print(ARGSCV.best_params_)\n",
    "print(ARGSCV.best_estimator_)\n",
    "print(ARGSCV.best_score_)\n",
    "print(ARGSCV.score(X,yr))\n",
    "y=ARGSCV.predict(X)\n",
    "print(mean_absolute_error(yr,y))\n",
    "print(np.sqrt(mean_squared_error(yr,y)))"
   ]
  },
  {
   "cell_type": "code",
   "execution_count": null,
   "id": "1f4d6fe9",
   "metadata": {},
   "outputs": [],
   "source": []
  },
  {
   "cell_type": "code",
   "execution_count": null,
   "id": "32dd01e1",
   "metadata": {},
   "outputs": [],
   "source": []
  },
  {
   "cell_type": "code",
   "execution_count": 44,
   "id": "30868721",
   "metadata": {},
   "outputs": [],
   "source": [
    "# ML_Data.loc[(ML_Data.Spend_90_flag==0) & (ML_Data.s>500)]"
   ]
  },
  {
   "cell_type": "code",
   "execution_count": 45,
   "id": "02dbcb14",
   "metadata": {},
   "outputs": [
    {
     "name": "stdout",
     "output_type": "stream",
     "text": [
      "['Recency', 'Frequency', 'Price_Sum', 'Price_Mean', 'Labels']\n",
      "[0.         0.         0.         0.70672123 0.29327877] DT\n",
      "[0.05232688 0.03761    0.04677142 0.61866289 0.2446288 ] RF\n",
      "[0.13188834 0.11305828 0.12353287 0.48219287 0.14932763] RF2\n",
      "[0.02491116 0.02304033 0.03569808 0.68192389 0.23442654] AB\n"
     ]
    }
   ],
   "source": [
    "print(X.columns.to_list())\n",
    "print(f'{DRGSCV.best_estimator_.feature_importances_} DT')\n",
    "print(f'{RRGSCV.best_estimator_.feature_importances_} RF')\n",
    "print(f'{RRGSCV2.best_estimator_.feature_importances_} RF2')\n",
    "print(f'{ARGSCV.best_estimator_.feature_importances_} AB')"
   ]
  },
  {
   "cell_type": "code",
   "execution_count": 46,
   "id": "1986248f",
   "metadata": {},
   "outputs": [],
   "source": [
    "ML_Data['Price_Pre']=RRGSCV.predict(X)\n",
    "ML_Data['Price_Pre2']=RRGSCV2.predict(X)\n",
    "\n",
    "\n",
    "\n",
    "ML_Data['Frequency']=Scaler_F.inverse_transform(ML_Data[['Frequency']])\n",
    "ML_Data['Recency']=Scaler_R.inverse_transform(ML_Data[['Recency']])\n",
    "ML_Data['Price_Sum']=Scaler_PS.inverse_transform(ML_Data[['Price_Sum']])\n",
    "ML_Data['Price_Mean']=Scaler_PM.inverse_transform(ML_Data[['Price_Mean']])"
   ]
  },
  {
   "cell_type": "code",
   "execution_count": 47,
   "id": "b5d3112f",
   "metadata": {},
   "outputs": [],
   "source": [
    "ML_Data['AVSP']=ML_Data.Spend_90-ML_Data.Price_Pre\n",
    "ML_Data['AVSP2']=ML_Data.Spend_90-ML_Data.Price_Pre2"
   ]
  },
  {
   "cell_type": "code",
   "execution_count": 48,
   "id": "2f93990e",
   "metadata": {},
   "outputs": [],
   "source": [
    "ML_Data.to_csv('RegressionPre.csv')"
   ]
  },
  {
   "cell_type": "code",
   "execution_count": null,
   "id": "b513e911",
   "metadata": {},
   "outputs": [],
   "source": []
  },
  {
   "cell_type": "code",
   "execution_count": null,
   "id": "6b5f2a66",
   "metadata": {},
   "outputs": [],
   "source": []
  }
 ],
 "metadata": {
  "kernelspec": {
   "display_name": "Python 3",
   "language": "python",
   "name": "python3"
  },
  "language_info": {
   "codemirror_mode": {
    "name": "ipython",
    "version": 3
   },
   "file_extension": ".py",
   "mimetype": "text/x-python",
   "name": "python",
   "nbconvert_exporter": "python",
   "pygments_lexer": "ipython3",
   "version": "3.9.5"
  }
 },
 "nbformat": 4,
 "nbformat_minor": 5
}
