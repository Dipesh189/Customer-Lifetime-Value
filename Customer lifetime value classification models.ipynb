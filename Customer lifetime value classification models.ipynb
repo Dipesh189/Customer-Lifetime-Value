{
 "cells": [
  {
   "cell_type": "code",
   "execution_count": 1,
   "id": "84c7908c",
   "metadata": {},
   "outputs": [],
   "source": [
    "import pandas as pd\n",
    "import joblib\n",
    "import numpy as np\n",
    "import matplotlib.pyplot as plt\n",
    "import seaborn as sns"
   ]
  },
  {
   "cell_type": "code",
   "execution_count": 2,
   "id": "a1f24dde",
   "metadata": {},
   "outputs": [],
   "source": [
    "mainData = pd.read_excel('Online Retail.xlsx')"
   ]
  },
  {
   "cell_type": "code",
   "execution_count": 3,
   "id": "f6259bd5",
   "metadata": {},
   "outputs": [
    {
     "data": {
      "text/html": [
       "<div>\n",
       "<style scoped>\n",
       "    .dataframe tbody tr th:only-of-type {\n",
       "        vertical-align: middle;\n",
       "    }\n",
       "\n",
       "    .dataframe tbody tr th {\n",
       "        vertical-align: top;\n",
       "    }\n",
       "\n",
       "    .dataframe thead th {\n",
       "        text-align: right;\n",
       "    }\n",
       "</style>\n",
       "<table border=\"1\" class=\"dataframe\">\n",
       "  <thead>\n",
       "    <tr style=\"text-align: right;\">\n",
       "      <th></th>\n",
       "      <th>InvoiceNo</th>\n",
       "      <th>StockCode</th>\n",
       "      <th>Description</th>\n",
       "      <th>Quantity</th>\n",
       "      <th>InvoiceDate</th>\n",
       "      <th>UnitPrice</th>\n",
       "      <th>CustomerID</th>\n",
       "      <th>Country</th>\n",
       "    </tr>\n",
       "  </thead>\n",
       "  <tbody>\n",
       "    <tr>\n",
       "      <th>0</th>\n",
       "      <td>536365</td>\n",
       "      <td>85123A</td>\n",
       "      <td>WHITE HANGING HEART T-LIGHT HOLDER</td>\n",
       "      <td>6</td>\n",
       "      <td>2010-12-01 08:26:00</td>\n",
       "      <td>2.55</td>\n",
       "      <td>17850.0</td>\n",
       "      <td>United Kingdom</td>\n",
       "    </tr>\n",
       "    <tr>\n",
       "      <th>1</th>\n",
       "      <td>536365</td>\n",
       "      <td>71053</td>\n",
       "      <td>WHITE METAL LANTERN</td>\n",
       "      <td>6</td>\n",
       "      <td>2010-12-01 08:26:00</td>\n",
       "      <td>3.39</td>\n",
       "      <td>17850.0</td>\n",
       "      <td>United Kingdom</td>\n",
       "    </tr>\n",
       "    <tr>\n",
       "      <th>2</th>\n",
       "      <td>536365</td>\n",
       "      <td>84406B</td>\n",
       "      <td>CREAM CUPID HEARTS COAT HANGER</td>\n",
       "      <td>8</td>\n",
       "      <td>2010-12-01 08:26:00</td>\n",
       "      <td>2.75</td>\n",
       "      <td>17850.0</td>\n",
       "      <td>United Kingdom</td>\n",
       "    </tr>\n",
       "    <tr>\n",
       "      <th>3</th>\n",
       "      <td>536365</td>\n",
       "      <td>84029G</td>\n",
       "      <td>KNITTED UNION FLAG HOT WATER BOTTLE</td>\n",
       "      <td>6</td>\n",
       "      <td>2010-12-01 08:26:00</td>\n",
       "      <td>3.39</td>\n",
       "      <td>17850.0</td>\n",
       "      <td>United Kingdom</td>\n",
       "    </tr>\n",
       "    <tr>\n",
       "      <th>4</th>\n",
       "      <td>536365</td>\n",
       "      <td>84029E</td>\n",
       "      <td>RED WOOLLY HOTTIE WHITE HEART.</td>\n",
       "      <td>6</td>\n",
       "      <td>2010-12-01 08:26:00</td>\n",
       "      <td>3.39</td>\n",
       "      <td>17850.0</td>\n",
       "      <td>United Kingdom</td>\n",
       "    </tr>\n",
       "  </tbody>\n",
       "</table>\n",
       "</div>"
      ],
      "text/plain": [
       "  InvoiceNo StockCode                          Description  Quantity  \\\n",
       "0    536365    85123A   WHITE HANGING HEART T-LIGHT HOLDER         6   \n",
       "1    536365     71053                  WHITE METAL LANTERN         6   \n",
       "2    536365    84406B       CREAM CUPID HEARTS COAT HANGER         8   \n",
       "3    536365    84029G  KNITTED UNION FLAG HOT WATER BOTTLE         6   \n",
       "4    536365    84029E       RED WOOLLY HOTTIE WHITE HEART.         6   \n",
       "\n",
       "          InvoiceDate  UnitPrice  CustomerID         Country  \n",
       "0 2010-12-01 08:26:00       2.55     17850.0  United Kingdom  \n",
       "1 2010-12-01 08:26:00       3.39     17850.0  United Kingdom  \n",
       "2 2010-12-01 08:26:00       2.75     17850.0  United Kingdom  \n",
       "3 2010-12-01 08:26:00       3.39     17850.0  United Kingdom  \n",
       "4 2010-12-01 08:26:00       3.39     17850.0  United Kingdom  "
      ]
     },
     "execution_count": 3,
     "metadata": {},
     "output_type": "execute_result"
    }
   ],
   "source": [
    "mainData.head()"
   ]
  },
  {
   "cell_type": "code",
   "execution_count": 4,
   "id": "da2e833e",
   "metadata": {},
   "outputs": [
    {
     "name": "stdout",
     "output_type": "stream",
     "text": [
      "<class 'pandas.core.frame.DataFrame'>\n",
      "RangeIndex: 541909 entries, 0 to 541908\n",
      "Data columns (total 8 columns):\n",
      " #   Column       Non-Null Count   Dtype         \n",
      "---  ------       --------------   -----         \n",
      " 0   InvoiceNo    541909 non-null  object        \n",
      " 1   StockCode    541909 non-null  object        \n",
      " 2   Description  540455 non-null  object        \n",
      " 3   Quantity     541909 non-null  int64         \n",
      " 4   InvoiceDate  541909 non-null  datetime64[ns]\n",
      " 5   UnitPrice    541909 non-null  float64       \n",
      " 6   CustomerID   406829 non-null  float64       \n",
      " 7   Country      541909 non-null  object        \n",
      "dtypes: datetime64[ns](1), float64(2), int64(1), object(4)\n",
      "memory usage: 33.1+ MB\n"
     ]
    }
   ],
   "source": [
    "mainData.info()"
   ]
  },
  {
   "cell_type": "code",
   "execution_count": 5,
   "id": "ce5bda24",
   "metadata": {},
   "outputs": [],
   "source": [
    "mainData.dropna(inplace=True)"
   ]
  },
  {
   "cell_type": "code",
   "execution_count": 6,
   "id": "784b3b18",
   "metadata": {},
   "outputs": [
    {
     "name": "stdout",
     "output_type": "stream",
     "text": [
      "<class 'pandas.core.frame.DataFrame'>\n",
      "Int64Index: 406829 entries, 0 to 541908\n",
      "Data columns (total 8 columns):\n",
      " #   Column       Non-Null Count   Dtype         \n",
      "---  ------       --------------   -----         \n",
      " 0   InvoiceNo    406829 non-null  object        \n",
      " 1   StockCode    406829 non-null  object        \n",
      " 2   Description  406829 non-null  object        \n",
      " 3   Quantity     406829 non-null  int64         \n",
      " 4   InvoiceDate  406829 non-null  datetime64[ns]\n",
      " 5   UnitPrice    406829 non-null  float64       \n",
      " 6   CustomerID   406829 non-null  float64       \n",
      " 7   Country      406829 non-null  object        \n",
      "dtypes: datetime64[ns](1), float64(2), int64(1), object(4)\n",
      "memory usage: 27.9+ MB\n"
     ]
    }
   ],
   "source": [
    "mainData.info()"
   ]
  },
  {
   "cell_type": "code",
   "execution_count": 7,
   "id": "b133b591",
   "metadata": {},
   "outputs": [],
   "source": [
    "CustomerSegment=pd.read_csv('Customer Segments.csv')\n",
    "Seg_dict=CustomerSegment.set_index('CustomerID').to_dict()['Labels']"
   ]
  },
  {
   "cell_type": "code",
   "execution_count": 8,
   "id": "eacd8548",
   "metadata": {},
   "outputs": [],
   "source": [
    "mainData['TransactionDate'] = mainData['InvoiceDate'].apply(lambda x: f'{x.year}-{x.month}-1')\n",
    "mainData['TransactionDate'] = pd.to_datetime(mainData.TransactionDate)                                                     "
   ]
  },
  {
   "cell_type": "code",
   "execution_count": 9,
   "id": "2193853a",
   "metadata": {},
   "outputs": [],
   "source": [
    "CLVData=mainData[['CustomerID','InvoiceDate','Quantity','UnitPrice']].copy()"
   ]
  },
  {
   "cell_type": "code",
   "execution_count": 10,
   "id": "0dd6953a",
   "metadata": {},
   "outputs": [],
   "source": [
    "CLVData['Price']=CLVData.Quantity*CLVData.UnitPrice"
   ]
  },
  {
   "cell_type": "code",
   "execution_count": 11,
   "id": "ce2aef03",
   "metadata": {},
   "outputs": [],
   "source": [
    "CLVData['Date']=CLVData.InvoiceDate.apply(lambda x:f'{x.year}-{x.month}-{x.day}')\n",
    "CLVData['Date']=pd.to_datetime(CLVData['Date'])"
   ]
  },
  {
   "cell_type": "code",
   "execution_count": 12,
   "id": "ddb2b628",
   "metadata": {},
   "outputs": [],
   "source": [
    "CFirstPurchase=CLVData.sort_values(['CustomerID','Date']).groupby('CustomerID').first()"
   ]
  },
  {
   "cell_type": "code",
   "execution_count": 13,
   "id": "32749ae8",
   "metadata": {},
   "outputs": [
    {
     "data": {
      "text/plain": [
       "Timestamp('2010-12-01 00:00:00')"
      ]
     },
     "execution_count": 13,
     "metadata": {},
     "output_type": "execute_result"
    }
   ],
   "source": [
    "CFirstPurchase['Date'].min()"
   ]
  },
  {
   "cell_type": "code",
   "execution_count": 14,
   "id": "083f8561",
   "metadata": {},
   "outputs": [
    {
     "data": {
      "text/plain": [
       "Timestamp('2011-12-09 00:00:00')"
      ]
     },
     "execution_count": 14,
     "metadata": {},
     "output_type": "execute_result"
    }
   ],
   "source": [
    "CFirstPurchase['Date'].max()"
   ]
  },
  {
   "cell_type": "code",
   "execution_count": 15,
   "id": "2c157d02",
   "metadata": {},
   "outputs": [
    {
     "data": {
      "text/plain": [
       "<AxesSubplot:xlabel='Date'>"
      ]
     },
     "execution_count": 15,
     "metadata": {},
     "output_type": "execute_result"
    },
    {
     "data": {
      "image/png": "[encoded data removed]",
      "text/plain": [
       "<Figure size 432x288 with 1 Axes>"
      ]
     },
     "metadata": {
      "needs_background": "light"
     },
     "output_type": "display_data"
    }
   ],
   "source": [
    "CLVData.set_index('Date')[['Price']].resample('MS').sum().plot()"
   ]
  },
  {
   "cell_type": "code",
   "execution_count": 16,
   "id": "55b262c3",
   "metadata": {},
   "outputs": [],
   "source": [
    "CLVID_Subset=CLVData[CLVData['CustomerID'].isin(CLVData['CustomerID'].unique()[:10])].groupby(['CustomerID','Date']).sum().reset_index()"
   ]
  },
  {
   "cell_type": "code",
   "execution_count": 17,
   "id": "61bfff2b",
   "metadata": {},
   "outputs": [],
   "source": [
    "N_Days=90\n",
    "Max_Date=CLVData['Date'].max()\n",
    "CutOfDate=Max_Date-pd.to_timedelta(N_Days, unit='d')"
   ]
  },
  {
   "cell_type": "code",
   "execution_count": 18,
   "id": "d8a5fd55",
   "metadata": {},
   "outputs": [],
   "source": [
    "CustomerOUT=CLVData[CLVData.Date>CutOfDate]\n",
    "CustomerIN=CLVData[CLVData.Date<=CutOfDate]"
   ]
  },
  {
   "cell_type": "code",
   "execution_count": 19,
   "id": "df9ce812",
   "metadata": {},
   "outputs": [],
   "source": [
    "Target_Customers=CustomerOUT.drop(['Quantity','InvoiceDate','UnitPrice'],axis=1).groupby('CustomerID').sum().rename({'Price':'Spend_90'},axis=1).assign(Spend_90_flag=1)"
   ]
  },
  {
   "cell_type": "code",
   "execution_count": 20,
   "id": "ad245069",
   "metadata": {},
   "outputs": [],
   "source": [
    "Max_Date=CustomerIN.Date.max()\n",
    "Recency_df=CustomerIN[['CustomerID','Date']].groupby('CustomerID').apply(lambda x: (x['Date'].max()-Max_Date)/pd.to_timedelta(1,unit='day')).to_frame().set_axis(['Recency'],axis=1)\n",
    "Frequency_df=CustomerIN[['CustomerID','Date']].groupby('CustomerID').count().set_axis(['Frequency'],axis=1)"
   ]
  },
  {
   "cell_type": "code",
   "execution_count": 21,
   "id": "a3922893",
   "metadata": {},
   "outputs": [],
   "source": [
    "Price_df=CustomerIN.groupby('CustomerID').aggregate({'Price':{'sum','mean'}}).set_axis(['Price_Sum','Price_Mean'],axis=1)"
   ]
  },
  {
   "cell_type": "code",
   "execution_count": 22,
   "id": "9de96607",
   "metadata": {},
   "outputs": [],
   "source": [
    "ML_Data=pd.concat([Recency_df,Frequency_df,Price_df],axis=1\n",
    ").merge(Target_Customers, right_index=True,left_index=True,how='left').fillna(0)"
   ]
  },
  {
   "cell_type": "code",
   "execution_count": 23,
   "id": "0e0e726e",
   "metadata": {},
   "outputs": [],
   "source": [
    "ML_Data['Labels']=ML_Data.index.map(Seg_dict)"
   ]
  },
  {
   "cell_type": "code",
   "execution_count": 24,
   "id": "dfd314d0",
   "metadata": {},
   "outputs": [],
   "source": [
    "from sklearn.preprocessing import MinMaxScaler"
   ]
  },
  {
   "cell_type": "code",
   "execution_count": 25,
   "id": "529db45c",
   "metadata": {},
   "outputs": [],
   "source": [
    "from xgboost import XGBRFClassifier, XGBRFRegressor\n",
    "from sklearn.model_selection import cross_val_score, GridSearchCV\n",
    "from sklearn.metrics import mean_absolute_error, mean_squared_error,explained_variance_score, confusion_matrix\n",
    "from sklearn.linear_model import LogisticRegression, LinearRegression\n",
    "from sklearn.ensemble import AdaBoostClassifier, AdaBoostRegressor, RandomForestClassifier,RandomForestRegressor\n",
    "from sklearn.tree import DecisionTreeClassifier, DecisionTreeRegressor\n",
    "from sklearn.svm import SVR, SVC\n",
    "from sklearn.neighbors import KNeighborsClassifier, KNeighborsRegressor"
   ]
  },
  {
   "cell_type": "code",
   "execution_count": 26,
   "id": "2c2adddc",
   "metadata": {},
   "outputs": [],
   "source": [
    "#Data Spliting\n",
    "X=ML_Data.drop(columns=['Spend_90','Spend_90_flag'])\n",
    "yr=ML_Data.Spend_90\n",
    "yc=ML_Data.Spend_90_flag"
   ]
  },
  {
   "cell_type": "code",
   "execution_count": 27,
   "id": "5bca0eef",
   "metadata": {},
   "outputs": [],
   "source": [
    "Scaler=MinMaxScaler()"
   ]
  },
  {
   "cell_type": "code",
   "execution_count": 28,
   "id": "562b490c",
   "metadata": {},
   "outputs": [
    {
     "data": {
      "text/plain": [
       "array([[1.70212766e-01, 2.18579235e-04, 5.80694049e-01, 2.35748248e-02,\n",
       "        7.50000000e-01],\n",
       "       [8.65248227e-01, 2.68852459e-02, 5.83742270e-01, 3.89199071e-02,\n",
       "        2.50000000e-01],\n",
       "       [4.43262411e-01, 5.90163934e-03, 5.87887762e-01, 3.17521681e-02,\n",
       "        5.00000000e-01],\n",
       "       ...,\n",
       "       [8.90070922e-01, 1.53005464e-03, 5.82365991e-01, 2.41178403e-02,\n",
       "        2.50000000e-01],\n",
       "       [9.85815603e-01, 9.74863388e-02, 5.81033596e-01, 2.97366435e-02,\n",
       "        2.50000000e-01],\n",
       "       [6.09929078e-01, 6.12021858e-03, 5.84268032e-01, 2.77825903e-02,\n",
       "        2.50000000e-01]])"
      ]
     },
     "execution_count": 28,
     "metadata": {},
     "output_type": "execute_result"
    }
   ],
   "source": [
    "Scaler.fit(X)\n",
    "Scaler.transform(X)"
   ]
  },
  {
   "cell_type": "code",
   "execution_count": null,
   "id": "e99262c1",
   "metadata": {},
   "outputs": [],
   "source": []
  },
  {
   "cell_type": "code",
   "execution_count": 30,
   "id": "b7474e28",
   "metadata": {
    "scrolled": true
   },
   "outputs": [
    {
     "name": "stdout",
     "output_type": "stream",
     "text": [
      "Fitting 5 folds for each of 48 candidates, totalling 240 fits\n",
      "0.7344712252665637\n",
      "{'C': 3, 'gamma': 'scale', 'kernel': 'rbf'}\n",
      "SVC(C=3)\n"
     ]
    }
   ],
   "source": [
    "SC=SVC()\n",
    "SCP=dict(kernel=['rbf','sigmoid'],C=[0.5,1,1.5,2,2.5,3],\n",
    "    gamma=['auto','scale',0.001,0.1])\n",
    "SCGSCV=GridSearchCV(SC,\n",
    "                   param_grid=SCP,cv=5,verbose=3,scoring='roc_auc',refit=True,n_jobs=-1)\n",
    "SCGSCV.fit(X,yc)\n",
    "print(SCGSCV.best_score_)\n",
    "print(SCGSCV.best_params_)\n",
    "print(SCGSCV.best_estimator_)"
   ]
  },
  {
   "cell_type": "code",
   "execution_count": 31,
   "id": "2c835903",
   "metadata": {},
   "outputs": [
    {
     "data": {
      "text/plain": [
       "0.7362300890923984"
      ]
     },
     "execution_count": 31,
     "metadata": {},
     "output_type": "execute_result"
    }
   ],
   "source": [
    "# SVC(C=1, gamma=1e-08)\n",
    "SCData=pd.DataFrame(SCGSCV.cv_results_)\n",
    "SCGSCV.score(X,yc)"
   ]
  },
  {
   "cell_type": "code",
   "execution_count": 32,
   "id": "72661307",
   "metadata": {},
   "outputs": [
    {
     "data": {
      "text/plain": [
       "<AxesSubplot:>"
      ]
     },
     "execution_count": 32,
     "metadata": {},
     "output_type": "execute_result"
    },
    {
     "data": {
      "image/png": "[encoded data removed]",
      "text/plain": [
       "<Figure size 432x288 with 2 Axes>"
      ]
     },
     "metadata": {
      "needs_background": "light"
     },
     "output_type": "display_data"
    }
   ],
   "source": [
    "sns.heatmap(confusion_matrix(yc,SVC(C=3).fit(X,yc).predict(X),normalize='true'), annot=True, fmt='.0%')"
   ]
  },
  {
   "cell_type": "code",
   "execution_count": 33,
   "id": "3bdd06f4",
   "metadata": {
    "scrolled": true
   },
   "outputs": [
    {
     "name": "stdout",
     "output_type": "stream",
     "text": [
      "0.7355356806627813\n",
      "{'algorithm': 'auto', 'leaf_size': 20, 'n_neighbors': 8, 'p': 1, 'weights': 'distance'}\n",
      "KNeighborsClassifier(leaf_size=20, n_jobs=-1, n_neighbors=8, p=1,\n",
      "                     weights='distance')\n",
      "1.0\n"
     ]
    }
   ],
   "source": [
    "KKC=KNeighborsClassifier(n_jobs=-1)\n",
    "KKCP=dict(n_neighbors=range(5,9),\n",
    "          algorithm=['auto', 'ball_tree', 'kd_tree', 'brute'],\n",
    "          p=[1,2],\n",
    "          weights=['uniform', 'distance'],\n",
    "          leaf_size=[20,30,40]\n",
    "         )\n",
    "KKCGSC=GridSearchCV(KKC,KKCP,cv=5,scoring='roc_auc',refit=True)\n",
    "KKCGSC.fit(X,yc)\n",
    "print(KKCGSC.best_score_)\n",
    "print(KKCGSC.best_params_)\n",
    "print(KKCGSC.best_estimator_)\n",
    "# SVC(C=1, gamma=1e-08)\n",
    "KKCData=pd.DataFrame(KKCGSC.cv_results_)\n",
    "print(KKCGSC.score(X,yc))"
   ]
  },
  {
   "cell_type": "code",
   "execution_count": 34,
   "id": "6b0d6eba",
   "metadata": {},
   "outputs": [
    {
     "data": {
      "text/plain": [
       "<AxesSubplot:>"
      ]
     },
     "execution_count": 34,
     "metadata": {},
     "output_type": "execute_result"
    },
    {
     "data": {
      "image/png": "[encoded data removed]",
      "text/plain": [
       "<Figure size 432x288 with 2 Axes>"
      ]
     },
     "metadata": {
      "needs_background": "light"
     },
     "output_type": "display_data"
    }
   ],
   "source": [
    "sns.heatmap(confusion_matrix(yc,KNeighborsClassifier(leaf_size=20, n_jobs=-1, n_neighbors=8, p=1).fit(X,yc).predict(X),normalize='true'), annot=True, fmt='.0%')"
   ]
  },
  {
   "cell_type": "code",
   "execution_count": 35,
   "id": "357c2690",
   "metadata": {},
   "outputs": [
    {
     "data": {
      "image/png": "[encoded data removed]",
      "text/plain": [
       "<Figure size 432x288 with 1 Axes>"
      ]
     },
     "metadata": {
      "needs_background": "light"
     },
     "output_type": "display_data"
    }
   ],
   "source": [
    "sns.lineplot(y=SCData.mean_test_score.sort_values(),x=SCData.index)\n",
    "sns.lineplot(y=KKCData.mean_test_score.sort_values(),x=KKCData.index)\n",
    "plt.show()\n",
    "# #Logestic reggration\n",
    "# clf = LogisticRegression(random_state=0).fit(X, y)"
   ]
  },
  {
   "cell_type": "code",
   "execution_count": 36,
   "id": "7d273ad9",
   "metadata": {},
   "outputs": [
    {
     "name": "stdout",
     "output_type": "stream",
     "text": [
      "0.8054795470638834\n",
      "{'C': 0.01, 'class_weight': 'balanced', 'max_iter': 100, 'multi_class': 'ovr', 'penalty': 'l2', 'solver': 'liblinear'}\n",
      "LogisticRegression(C=0.01, class_weight='balanced', multi_class='ovr',\n",
      "                   random_state=0, solver='liblinear')\n",
      "0.8064200339172132\n"
     ]
    }
   ],
   "source": [
    "LC=LogisticRegression(random_state=0)\n",
    "LCP=dict(penalty=['l2','l1'],\n",
    "    C=[0.01,0.001,0.0001],\n",
    "    class_weight=[None,'balanced'],\n",
    "    solver=['liblinear'],\n",
    "         multi_class=['ovr','auto'],\n",
    "    max_iter=[100,200])\n",
    "LCGSC=GridSearchCV(LC,LCP,cv=5,scoring='roc_auc',refit=True,n_jobs=-1)\n",
    "LCGSC.fit(X,yc)\n",
    "print(LCGSC.best_score_)\n",
    "print(LCGSC.best_params_)\n",
    "print(LCGSC.best_estimator_)\n",
    "# SVC(C=1, gamma=1e-08)\n",
    "LCData=pd.DataFrame(LCGSC.cv_results_)\n",
    "print(LCGSC.score(X,yc))"
   ]
  },
  {
   "cell_type": "code",
   "execution_count": 37,
   "id": "692bcc19",
   "metadata": {},
   "outputs": [
    {
     "data": {
      "text/plain": [
       "<AxesSubplot:>"
      ]
     },
     "execution_count": 37,
     "metadata": {},
     "output_type": "execute_result"
    },
    {
     "data": {
      "image/png": "[encoded data removed]",
      "text/plain": [
       "<Figure size 432x288 with 2 Axes>"
      ]
     },
     "metadata": {
      "needs_background": "light"
     },
     "output_type": "display_data"
    }
   ],
   "source": [
    "sns.heatmap(confusion_matrix(yc,LogisticRegression(C=0.001, multi_class='ovr', penalty='l1', random_state=0,\n",
    "                   solver='liblinear').fit(X,yc).predict(X),normalize='true'), annot=True, fmt='.0%')"
   ]
  },
  {
   "cell_type": "code",
   "execution_count": 38,
   "id": "832acde2",
   "metadata": {
    "scrolled": true
   },
   "outputs": [
    {
     "name": "stdout",
     "output_type": "stream",
     "text": [
      "0.9975283617680203\n",
      "{'criterion': 'gini', 'max_depth': None, 'max_features': 'auto', 'max_leaf_nodes': 5, 'min_impurity_decrease': 0.001, 'min_samples_leaf': 1, 'min_samples_split': 2, 'splitter': 'best'}\n",
      "DecisionTreeClassifier(max_features='auto', max_leaf_nodes=5,\n",
      "                       min_impurity_decrease=0.001, random_state=0)\n",
      "0.9975499941691618\n"
     ]
    }
   ],
   "source": [
    "DC=DecisionTreeClassifier(random_state=0)\n",
    "DCP=dict(\n",
    "criterion=['gini', 'entropy'],\n",
    "splitter=['best'],\n",
    "max_depth=[None,1,2,3,4],\n",
    "min_samples_split=range(2,6),\n",
    "min_samples_leaf=range(1,6),\n",
    "\n",
    "max_features=['auto', 'sqrt', 'log2'],\n",
    "\n",
    "max_leaf_nodes=[2,3,4,5,6,7,8],\n",
    "min_impurity_decrease=[0.1,0.001],\n",
    "    \n",
    "\n",
    "\n",
    ")\n",
    "\n",
    "DCGSC=GridSearchCV(DC,DCP,cv=10,scoring='roc_auc',refit=True,n_jobs=-1)\n",
    "DCGSC.fit(X,yc)\n",
    "print(DCGSC.best_score_)\n",
    "print(DCGSC.best_params_)\n",
    "print(DCGSC.best_estimator_)\n",
    "# SVC(C=1, gamma=1e-08)\n",
    "DCData=pd.DataFrame(DCGSC.cv_results_)\n",
    "print(DCGSC.score(X,yc))"
   ]
  },
  {
   "cell_type": "code",
   "execution_count": 39,
   "id": "a9c99add",
   "metadata": {},
   "outputs": [
    {
     "data": {
      "text/plain": [
       "<AxesSubplot:>"
      ]
     },
     "execution_count": 39,
     "metadata": {},
     "output_type": "execute_result"
    },
    {
     "data": {
      "image/png": "[encoded data removed]",
      "text/plain": [
       "<Figure size 432x288 with 2 Axes>"
      ]
     },
     "metadata": {
      "needs_background": "light"
     },
     "output_type": "display_data"
    }
   ],
   "source": [
    "sns.heatmap(confusion_matrix(yc,DecisionTreeClassifier(max_depth=3, max_features='auto', max_leaf_nodes=8,\n",
    "                        random_state=0).fit(X,yc).predict(X),normalize='true'), annot=True, fmt='.0%')"
   ]
  },
  {
   "cell_type": "code",
   "execution_count": 40,
   "id": "bbb7309b",
   "metadata": {},
   "outputs": [
    {
     "name": "stdout",
     "output_type": "stream",
     "text": [
      "Fitting 10 folds for each of 144 candidates, totalling 1440 fits\n",
      "0.9501896921880558\n",
      "{'criterion': 'entropy', 'max_depth': 5, 'max_features': 'auto', 'max_leaf_nodes': 3, 'min_samples_leaf': 1, 'min_samples_split': 4, 'n_estimators': 400}\n",
      "RandomForestClassifier(criterion='entropy', max_depth=5, max_leaf_nodes=3,\n",
      "                       min_samples_split=4, n_estimators=400, n_jobs=-1)\n",
      "0.9520273051832641\n"
     ]
    }
   ],
   "source": [
    "RC=RandomForestClassifier(n_jobs=-1)\n",
    "RCP=dict(n_estimators=[300,400],\n",
    "    criterion=['gini','entropy'],\n",
    "    max_depth=[4,5,6,7,8,9],\n",
    "    min_samples_split=[2,3,4],\n",
    "    min_samples_leaf=[1],\n",
    "    \n",
    "    max_features=['auto'],\n",
    "    max_leaf_nodes=[2,3],\n",
    "    )\n",
    "RCGSCV=GridSearchCV(RC,RCP,cv=10,scoring='roc_auc',refit=True,verbose=3,n_jobs=-1)\n",
    "RCGSCV.fit(X,yc)\n",
    "print(RCGSCV.best_score_)\n",
    "print(RCGSCV.best_params_)\n",
    "print(RCGSCV.best_estimator_)\n",
    "# SVC(C=1, gamma=1e-08)\n",
    "RCData=pd.DataFrame(RCGSCV.cv_results_)\n",
    "print(RCGSCV.score(X,yc))"
   ]
  },
  {
   "cell_type": "code",
   "execution_count": 41,
   "id": "ad4c3b63",
   "metadata": {},
   "outputs": [
    {
     "data": {
      "text/plain": [
       "<AxesSubplot:>"
      ]
     },
     "execution_count": 41,
     "metadata": {},
     "output_type": "execute_result"
    },
    {
     "data": {
      "image/png": "[encoded data removed]",
      "text/plain": [
       "<Figure size 432x288 with 2 Axes>"
      ]
     },
     "metadata": {
      "needs_background": "light"
     },
     "output_type": "display_data"
    }
   ],
   "source": [
    "sns.heatmap(confusion_matrix(yc,RandomForestClassifier(max_depth=9, max_leaf_nodes=3, n_estimators=300,\n",
    "                       n_jobs=-1).fit(X,yc).predict(X),normalize='true'), annot=True, fmt='.0%')"
   ]
  },
  {
   "cell_type": "code",
   "execution_count": 42,
   "id": "e73c3f3d",
   "metadata": {},
   "outputs": [
    {
     "name": "stdout",
     "output_type": "stream",
     "text": [
      "0.9980484435880379\n",
      "{'learning_rate': 1e-05, 'n_estimators': 200}\n",
      "AdaBoostClassifier(base_estimator=DecisionTreeClassifier(max_depth=3,\n",
      "                                                         max_features='auto',\n",
      "                                                         max_leaf_nodes=8,\n",
      "                                                         min_impurity_decrease=0.001,\n",
      "                                                         random_state=0),\n",
      "                   learning_rate=1e-05, n_estimators=200)\n",
      "0.9981994652489066\n"
     ]
    }
   ],
   "source": [
    "ABC=AdaBoostClassifier(base_estimator=DecisionTreeClassifier(max_depth=3, max_features='auto', max_leaf_nodes=8,\n",
    "                       min_impurity_decrease=0.001, random_state=0))\n",
    "ABCP=dict(n_estimators=[200],\n",
    "         learning_rate=[0.01,0.001,0.00001],\n",
    "         )\n",
    "\n",
    "ABCGSCV=GridSearchCV(ABC,ABCP,cv=10,scoring='roc_auc',refit=True,n_jobs=-1)\n",
    "ABCGSCV.fit(X,yc)\n",
    "print(ABCGSCV.best_score_)\n",
    "print(ABCGSCV.best_params_)\n",
    "print(ABCGSCV.best_estimator_)\n",
    "# SVC(C=1, gamma=1e-08)\n",
    "ABCData=pd.DataFrame(ABCGSCV.cv_results_)\n",
    "print(ABCGSCV.score(X,yc))"
   ]
  },
  {
   "cell_type": "code",
   "execution_count": 43,
   "id": "e20f0b16",
   "metadata": {},
   "outputs": [
    {
     "data": {
      "text/plain": [
       "<AxesSubplot:>"
      ]
     },
     "execution_count": 43,
     "metadata": {},
     "output_type": "execute_result"
    },
    {
     "data": {
      "image/png": "[encoded data removed]",
      "text/plain": [
       "<Figure size 432x288 with 2 Axes>"
      ]
     },
     "metadata": {
      "needs_background": "light"
     },
     "output_type": "display_data"
    }
   ],
   "source": [
    "sns.heatmap(confusion_matrix(yc,AdaBoostClassifier(base_estimator=DecisionTreeClassifier(max_depth=3,\n",
    "                                                         max_features='auto',\n",
    "                                                         max_leaf_nodes=8,\n",
    "                                                         min_impurity_decrease=0.001,\n",
    "                                                         random_state=0),\n",
    "                   learning_rate=0.001, n_estimators=200).fit(X,yc).predict(X),normalize='true'), annot=True, fmt='.0%')"
   ]
  },
  {
   "cell_type": "code",
   "execution_count": null,
   "id": "d3698c6c",
   "metadata": {},
   "outputs": [],
   "source": [
    "# ABC=AdaBoostClassifier(base_estimator=SVC(C=3,probability=True),random_state=0)\n",
    "# ABCP=dict(n_estimators=[50],\n",
    "#          learning_rate=[0.01,0.05],\n",
    "#          )\n",
    "\n",
    "# ABCGSCV=GridSearchCV(ABC,ABCP,cv=10,scoring='roc_auc',refit=True,n_jobs=-1)\n",
    "# ABCGSCV.fit(X,yc)\n",
    "# print(ABCGSCV.best_score_)\n",
    "# print(ABCGSCV.best_params_)\n",
    "# print(ABCGSCV.best_estimator_)\n",
    "# # SVC(C=1, gamma=1e-08)\n",
    "# ABCData=pd.DataFrame(ABCGSCV.cv_results_)\n",
    "# print(ABCGSCV.score(X,yc))"
   ]
  },
  {
   "cell_type": "code",
   "execution_count": 45,
   "id": "a40223b1",
   "metadata": {},
   "outputs": [],
   "source": [
    "ML_Data['KNN_Predict_Prob']=KNeighborsClassifier(leaf_size=20, n_jobs=-1, n_neighbors=8, p=1).fit(X,yc).predict_proba(X)[:,1]\n",
    "ML_Data['SVC_Predict_Prob']=SVC(C=3,probability=True).fit(X,yc).predict_proba(X)[:,1]\n",
    "ML_Data['AB_Predict_Prob']=AdaBoostClassifier(base_estimator=DecisionTreeClassifier(max_depth=3,\n",
    "                                                         max_features='auto',\n",
    "                                                         max_leaf_nodes=8,\n",
    "                                                         min_impurity_decrease=0.001,\n",
    "                                                         random_state=0),\n",
    "                   learning_rate=1e-05, n_estimators=200).fit(X,yc).predict_proba(X)[:,1]\n",
    "ML_Data['RF_Predict_Prob']=RandomForestClassifier(criterion='entropy', max_depth=5, max_leaf_nodes=3,\n",
    "                       min_samples_split=4, n_estimators=400, n_jobs=-1).fit(X,yc).predict_proba(X)[:,1]\n",
    "ML_Data['DT_Predict_Prob']=DecisionTreeClassifier(max_features='auto', max_leaf_nodes=5,\n",
    "                       min_impurity_decrease=0.001, random_state=0).fit(X,yc).predict_proba(X)[:,1]\n",
    "ML_Data['DT_Predict_Prob']=LogisticRegression(C=0.01, class_weight='balanced', multi_class='ovr',\n",
    "                   random_state=0, solver='liblinear').fit(X,yc).predict_proba(X)[:,1]"
   ]
  },
  {
   "cell_type": "code",
   "execution_count": 46,
   "id": "b8cbefb9",
   "metadata": {},
   "outputs": [],
   "source": [
    "ML_Data.to_csv('ClassifiactionProb.csv',index=False)"
   ]
  },
  {
   "cell_type": "code",
   "execution_count": null,
   "id": "1f1aa8dd",
   "metadata": {},
   "outputs": [],
   "source": []
  }
 ],
 "metadata": {
  "kernelspec": {
   "display_name": "Python 3",
   "language": "python",
   "name": "python3"
  },
  "language_info": {
   "codemirror_mode": {
    "name": "ipython",
    "version": 3
   },
   "file_extension": ".py",
   "mimetype": "text/x-python",
   "name": "python",
   "nbconvert_exporter": "python",
   "pygments_lexer": "ipython3",
   "version": "3.9.5"
  }
 },
 "nbformat": 4,
 "nbformat_minor": 5
}
